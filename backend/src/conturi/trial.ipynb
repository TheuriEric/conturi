{
 "cells": [
  {
   "cell_type": "code",
   "execution_count": 2,
   "id": "3c89b3ee",
   "metadata": {},
   "outputs": [],
   "source": [
    "import logging"
   ]
  },
  {
   "cell_type": "code",
   "execution_count": null,
   "id": "3cc2751c",
   "metadata": {},
   "outputs": [
    {
     "ename": "",
     "evalue": "",
     "output_type": "error",
     "traceback": [
      "\u001b[1;31mnotebook controller is DISPOSED. \n",
      "\u001b[1;31mView Jupyter <a href='command:jupyter.viewOutput'>log</a> for further details."
     ]
    }
   ],
   "source": [
    "logging.basicConfig(level=logging.INFO,\n",
    "                    format=\"%(asctime)s - %(name)s - %(levelname)s - %(message)s\"\n",
    ")\n",
    "logger = logging.getLogger(__name__)"
   ]
  },
  {
   "cell_type": "code",
   "execution_count": null,
   "id": "3fc78561",
   "metadata": {},
   "outputs": [
    {
     "name": "stdout",
     "output_type": "stream",
     "text": [
      "llama-3.3-70b-versatile\n"
     ]
    },
    {
     "ename": "",
     "evalue": "",
     "output_type": "error",
     "traceback": [
      "\u001b[1;31mnotebook controller is DISPOSED. \n",
      "\u001b[1;31mView Jupyter <a href='command:jupyter.viewOutput'>log</a> for further details."
     ]
    }
   ],
   "source": [
    "from langchain_groq import ChatGroq\n",
    "import os\n",
    "from dotenv import load_dotenv\n",
    "load_dotenv()\n",
    "print(os.getenv(\"GROQ_MODEL\"))"
   ]
  },
  {
   "cell_type": "code",
   "execution_count": null,
   "id": "35d19f04",
   "metadata": {},
   "outputs": [
    {
     "ename": "",
     "evalue": "",
     "output_type": "error",
     "traceback": [
      "\u001b[1;31mnotebook controller is DISPOSED. \n",
      "\u001b[1;31mView Jupyter <a href='command:jupyter.viewOutput'>log</a> for further details."
     ]
    }
   ],
   "source": []
  },
  {
   "cell_type": "code",
   "execution_count": null,
   "id": "5d5a60b2",
   "metadata": {},
   "outputs": [
    {
     "name": "stderr",
     "output_type": "stream",
     "text": [
      "2025-10-16 01:25:33,781 - __main__ - INFO - Successfully connected to the router LLM\n"
     ]
    },
    {
     "ename": "",
     "evalue": "",
     "output_type": "error",
     "traceback": [
      "\u001b[1;31mnotebook controller is DISPOSED. \n",
      "\u001b[1;31mView Jupyter <a href='command:jupyter.viewOutput'>log</a> for further details."
     ]
    }
   ],
   "source": [
    "\n",
    "try:\n",
    "    router_llm = ChatGroq(\n",
    "        model=os.getenv(\"GROQ_MODEL\"),\n",
    "        api_key=os.getenv(\"GROQ_API_KEY\")\n",
    "    )\n",
    "    logger.info(\"Successfully connected to the router LLM\")\n",
    "except Exception as e:\n",
    "    logger.exception(\"Failed to connect to the router LLM\")\n"
   ]
  },
  {
   "cell_type": "code",
   "execution_count": null,
   "id": "99f74d0d",
   "metadata": {},
   "outputs": [
    {
     "name": "stderr",
     "output_type": "stream",
     "text": [
      "2025-10-16 01:27:30,542 - httpx - INFO - HTTP Request: POST https://api.groq.com/openai/v1/chat/completions \"HTTP/1.1 200 OK\"\n"
     ]
    },
    {
     "ename": "",
     "evalue": "",
     "output_type": "error",
     "traceback": [
      "\u001b[1;31mnotebook controller is DISPOSED. \n",
      "\u001b[1;31mView Jupyter <a href='command:jupyter.viewOutput'>log</a> for further details."
     ]
    }
   ],
   "source": [
    "answer = router_llm.invoke('Give me a financial tip but i want you to EXPLICITLY RETURN THE ANSWER IN A JSON FORMAT: {\"tip\": \"The actual tip\"}')"
   ]
  },
  {
   "cell_type": "code",
   "execution_count": null,
   "id": "4a4732d6",
   "metadata": {},
   "outputs": [
    {
     "name": "stderr",
     "output_type": "stream",
     "text": [
      "/home/theurieric/Desktop/DirectEd/main/lib/python3.13/site-packages/IPython/core/interactiveshell.py:3699: LangChainDeprecationWarning: As of langchain-core 0.3.0, LangChain uses pydantic v2 internally. The langchain_core.pydantic_v1 module was a compatibility shim for pydantic v1, and should no longer be used. Please update the code to import from Pydantic directly.\n",
      "\n",
      "For example, replace imports like: `from langchain_core.pydantic_v1 import BaseModel`\n",
      "with: `from pydantic import BaseModel`\n",
      "or the v1 compatibility namespace if you are working in a code base that has not been fully upgraded to pydantic 2 yet. \tfrom pydantic.v1 import BaseModel\n",
      "\n",
      "  exec(code_obj, self.user_global_ns, self.user_ns)\n",
      "2025-10-16 01:29:51,454 - __main__ - INFO - ✅ Successfully connected to Groq LLM\n"
     ]
    },
    {
     "name": "stdout",
     "output_type": "stream",
     "text": [
      "\n",
      "=== Method 1: JsonOutputParser ===\n"
     ]
    },
    {
     "name": "stderr",
     "output_type": "stream",
     "text": [
      "2025-10-16 01:29:52,266 - httpx - INFO - HTTP Request: POST https://api.groq.com/openai/v1/chat/completions \"HTTP/1.1 200 OK\"\n",
      "2025-10-16 01:29:52,280 - __main__ - INFO - ✅ Received structured output: {'tip': 'Start building an emergency fund to cover 3-6 months of living expenses to ensure financial stability and security.'}\n"
     ]
    },
    {
     "name": "stdout",
     "output_type": "stream",
     "text": [
      "Tip: Start building an emergency fund to cover 3-6 months of living expenses to ensure financial stability and security.\n",
      "\n",
      "=== Method 2: with_structured_output ===\n"
     ]
    },
    {
     "name": "stderr",
     "output_type": "stream",
     "text": [
      "2025-10-16 01:29:52,610 - httpx - INFO - HTTP Request: POST https://api.groq.com/openai/v1/chat/completions \"HTTP/1.1 200 OK\"\n",
      "2025-10-16 01:29:52,613 - __main__ - INFO - ✅ Received Pydantic object: tip='Create a budget and track your expenses to understand where your money is going and make informed financial decisions.'\n"
     ]
    },
    {
     "name": "stdout",
     "output_type": "stream",
     "text": [
      "Tip: Create a budget and track your expenses to understand where your money is going and make informed financial decisions.\n",
      "\n",
      "=== Method 3: Manual parsing with retry ===\n"
     ]
    },
    {
     "name": "stderr",
     "output_type": "stream",
     "text": [
      "2025-10-16 01:29:53,082 - httpx - INFO - HTTP Request: POST https://api.groq.com/openai/v1/chat/completions \"HTTP/1.1 200 OK\"\n",
      "2025-10-16 01:29:53,084 - __main__ - INFO - ✅ Successfully parsed JSON on attempt 1\n"
     ]
    },
    {
     "name": "stdout",
     "output_type": "stream",
     "text": [
      "Tip: Start building an emergency fund to cover at least 3-6 months of living expenses to ensure financial stability and avoid going into debt when unexpected expenses arise\n"
     ]
    },
    {
     "ename": "",
     "evalue": "",
     "output_type": "error",
     "traceback": [
      "\u001b[1;31mnotebook controller is DISPOSED. \n",
      "\u001b[1;31mView Jupyter <a href='command:jupyter.viewOutput'>log</a> for further details."
     ]
    }
   ],
   "source": [
    "from langchain_groq import ChatGroq\n",
    "from langchain_core.pydantic_v1 import BaseModel, Field\n",
    "from langchain_core.output_parsers import JsonOutputParser\n",
    "from langchain_core.prompts import ChatPromptTemplate\n",
    "import os\n",
    "import logging\n",
    "\n",
    "logger = logging.getLogger(__name__)\n",
    "\n",
    "# Define your output schema\n",
    "class FinancialTip(BaseModel):\n",
    "    tip: str = Field(description=\"A practical financial tip\")\n",
    "\n",
    "# Initialize the LLM\n",
    "try:\n",
    "    router_llm = ChatGroq(\n",
    "        model=os.getenv(\"GROQ_MODEL\"),\n",
    "        api_key=os.getenv(\"GROQ_API_KEY\"),\n",
    "        temperature=0.7\n",
    "    )\n",
    "    logger.info(\"✅ Successfully connected to Groq LLM\")\n",
    "except Exception as e:\n",
    "    logger.exception(\"❌ Failed to connect to Groq LLM\")\n",
    "    raise\n",
    "\n",
    "# Method 1: Using JsonOutputParser (RECOMMENDED)\n",
    "def get_financial_tip_method1():\n",
    "    \"\"\"Best method: JsonOutputParser with structured schema\"\"\"\n",
    "    \n",
    "    parser = JsonOutputParser(pydantic_object=FinancialTip)\n",
    "    \n",
    "    prompt = ChatPromptTemplate.from_messages([\n",
    "        (\"system\", \"You are a financial advisor. {format_instructions}\"),\n",
    "        (\"user\", \"{query}\")\n",
    "    ])\n",
    "    \n",
    "    chain = prompt | router_llm | parser\n",
    "    \n",
    "    try:\n",
    "        result = chain.invoke({\n",
    "            \"query\": \"Give me a financial tip\",\n",
    "            \"format_instructions\": parser.get_format_instructions()\n",
    "        })\n",
    "        \n",
    "        logger.info(f\"✅ Received structured output: {result}\")\n",
    "        return result  # Returns: {\"tip\": \"...\"}\n",
    "        \n",
    "    except Exception as e:\n",
    "        logger.exception(\"❌ Failed to get structured output\")\n",
    "        raise\n",
    "\n",
    "# Method 2: Using with_structured_output (NEWER API)\n",
    "def get_financial_tip_method2():\n",
    "    \"\"\"Alternative: Using Groq's structured output API\"\"\"\n",
    "    \n",
    "    structured_llm = router_llm.with_structured_output(FinancialTip)\n",
    "    \n",
    "    try:\n",
    "        result = structured_llm.invoke(\"Give me a financial tip\")\n",
    "        \n",
    "        # Result is already a Pydantic object\n",
    "        logger.info(f\"✅ Received Pydantic object: {result}\")\n",
    "        \n",
    "        # Convert to dict if needed\n",
    "        return result.dict()  # Returns: {\"tip\": \"...\"}\n",
    "        \n",
    "    except Exception as e:\n",
    "        logger.exception(\"❌ Failed to get structured output\")\n",
    "        raise\n",
    "\n",
    "# Method 3: Manual JSON parsing with retry logic (FALLBACK)\n",
    "def get_financial_tip_method3():\n",
    "    \"\"\"Fallback: Manual JSON parsing with validation\"\"\"\n",
    "    import json\n",
    "    \n",
    "    prompt = \"\"\"You are a financial advisor. Provide a financial tip.\n",
    "\n",
    "CRITICAL: Return ONLY valid JSON in this exact format:\n",
    "{\"tip\": \"your financial tip here\"}\n",
    "\n",
    "Do not include any other text, explanations, or markdown formatting.\"\"\"\n",
    "    \n",
    "    max_retries = 3\n",
    "    \n",
    "    for attempt in range(max_retries):\n",
    "        try:\n",
    "            response = router_llm.invoke(prompt)\n",
    "            content = response.content\n",
    "            \n",
    "            # Remove markdown code blocks if present\n",
    "            content = content.strip()\n",
    "            if content.startswith(\"```json\"):\n",
    "                content = content.replace(\"```json\", \"\").replace(\"```\", \"\").strip()\n",
    "            elif content.startswith(\"```\"):\n",
    "                content = content.replace(\"```\", \"\").strip()\n",
    "            \n",
    "            # Parse JSON\n",
    "            result = json.loads(content)\n",
    "            \n",
    "            # Validate structure\n",
    "            if \"tip\" not in result:\n",
    "                raise ValueError(\"Missing 'tip' key in response\")\n",
    "            \n",
    "            logger.info(f\"✅ Successfully parsed JSON on attempt {attempt + 1}\")\n",
    "            return result\n",
    "            \n",
    "        except json.JSONDecodeError as e:\n",
    "            logger.warning(f\"⚠️ JSON parse error on attempt {attempt + 1}: {e}\")\n",
    "            logger.warning(f\"Raw content: {content}\")\n",
    "            \n",
    "            if attempt == max_retries - 1:\n",
    "                logger.error(\"❌ All retry attempts exhausted\")\n",
    "                # Fallback: return plain text wrapped in JSON\n",
    "                return {\"tip\": content}\n",
    "        \n",
    "        except Exception as e:\n",
    "            logger.exception(f\"❌ Unexpected error on attempt {attempt + 1}\")\n",
    "            raise\n",
    "\n",
    "# Usage Examples\n",
    "if __name__ == \"__main__\":\n",
    "    logging.basicConfig(level=logging.INFO)\n",
    "    \n",
    "    print(\"\\n=== Method 1: JsonOutputParser ===\")\n",
    "    tip1 = get_financial_tip_method1()\n",
    "    print(f\"Tip: {tip1['tip']}\")\n",
    "    \n",
    "    print(\"\\n=== Method 2: with_structured_output ===\")\n",
    "    tip2 = get_financial_tip_method2()\n",
    "    print(f\"Tip: {tip2['tip']}\")\n",
    "    \n",
    "    print(\"\\n=== Method 3: Manual parsing with retry ===\")\n",
    "    tip3 = get_financial_tip_method3()\n",
    "    print(f\"Tip: {tip3['tip']}\")"
   ]
  },
  {
   "cell_type": "code",
   "execution_count": null,
   "id": "63702d06",
   "metadata": {},
   "outputs": [
    {
     "name": "stderr",
     "output_type": "stream",
     "text": [
      "2025-10-16 01:34:45,234 - httpx - INFO - HTTP Request: POST https://api.groq.com/openai/v1/chat/completions \"HTTP/1.1 200 OK\"\n"
     ]
    },
    {
     "data": {
      "text/plain": [
       "'The festival will feature a surprise performance by a renowned African artist.'"
      ]
     },
     "execution_count": 16,
     "metadata": {},
     "output_type": "execute_result"
    },
    {
     "ename": "",
     "evalue": "",
     "output_type": "error",
     "traceback": [
      "\u001b[1;31mnotebook controller is DISPOSED. \n",
      "\u001b[1;31mView Jupyter <a href='command:jupyter.viewOutput'>log</a> for further details."
     ]
    }
   ],
   "source": [
    "class EventOutput(BaseModel):\n",
    "    event_name: str = Field(..., description=\"Event name/title\")\n",
    "    location: str = Field(..., description=\"Event location\")\n",
    "    event_summary: str = Field(..., description=\"A brief description of the event..what it entails..who'll be there, price and the rest\")\n",
    "    fun_fact: str = Field(..., description=\"A fun fact about the event,theme or anything related to the event\")\n",
    "\n",
    "\n",
    "structured_llm = router_llm.with_structured_output(EventOutput)\n",
    "structured_llm.invoke(\"Tell me an event happening in Nairobi this weekend\").fun_fact"
   ]
  },
  {
   "cell_type": "code",
   "execution_count": null,
   "id": "e349ff71",
   "metadata": {},
   "outputs": [
    {
     "ename": "",
     "evalue": "",
     "output_type": "error",
     "traceback": [
      "\u001b[1;31mnotebook controller is DISPOSED. \n",
      "\u001b[1;31mView Jupyter <a href='command:jupyter.viewOutput'>log</a> for further details."
     ]
    }
   ],
   "source": [
    "structured_llm = router_llm.with_structured_output(FinancialTip)"
   ]
  },
  {
   "cell_type": "code",
   "execution_count": null,
   "id": "5035f1c3",
   "metadata": {},
   "outputs": [
    {
     "ename": "",
     "evalue": "",
     "output_type": "error",
     "traceback": [
      "\u001b[1;31mnotebook controller is DISPOSED. \n",
      "\u001b[1;31mView Jupyter <a href='command:jupyter.viewOutput'>log</a> for further details."
     ]
    }
   ],
   "source": [
    "import logging\n",
    "logging.basicConfig(level=logging.INFO,\n",
    "                    format=\"%(asctime)s - %(name)s - %(levelname)s - %(message)s\"\n",
    ")\n",
    "logger = logging.getLogger(__name__)"
   ]
  },
  {
   "cell_type": "code",
   "execution_count": null,
   "id": "40ce72b2",
   "metadata": {},
   "outputs": [
    {
     "name": "stderr",
     "output_type": "stream",
     "text": [
      "2025-10-17 19:20:05,132 - __main__ - INFO - Registered required directories\n"
     ]
    },
    {
     "ename": "",
     "evalue": "",
     "output_type": "error",
     "traceback": [
      "\u001b[1;31mnotebook controller is DISPOSED. \n",
      "\u001b[1;31mView Jupyter <a href='command:jupyter.viewOutput'>log</a> for further details."
     ]
    }
   ],
   "source": [
    "from pathlib import Path\n",
    "try:\n",
    "    project_root = Path(__name__).resolve().parent.parent.parent\n",
    "    pdf_path = f\"{project_root}/knowledge\"\n",
    "    persist_directory = f\"{project_root}/db\"\n",
    "    logger.info(\"Registered required directories\")\n",
    "except Exception as e:\n",
    "    logger.exception(\"Failed to register required directories\")"
   ]
  },
  {
   "cell_type": "code",
   "execution_count": null,
   "id": "dd83f82d",
   "metadata": {},
   "outputs": [
    {
     "name": "stdout",
     "output_type": "stream",
     "text": [
      "/home/theurieric/Desktop/DirectEd/projects/conturi/backend\n",
      "/home/theurieric/Desktop/DirectEd/projects/conturi/backend/src/conturi/config\n"
     ]
    },
    {
     "ename": "",
     "evalue": "",
     "output_type": "error",
     "traceback": [
      "\u001b[1;31mnotebook controller is DISPOSED. \n",
      "\u001b[1;31mView Jupyter <a href='command:jupyter.viewOutput'>log</a> for further details."
     ]
    }
   ],
   "source": [
    "print(project_root)\n",
    "config_dir = f\"{project_root}/src/conturi/config\"\n",
    "print(config_dir)"
   ]
  },
  {
   "cell_type": "markdown",
   "id": "44066a26",
   "metadata": {},
   "source": [
    "/home/theurieric/Desktop/DirectEd/projects/conturi/backend/src/conturi/config"
   ]
  },
  {
   "cell_type": "code",
   "execution_count": null,
   "id": "dbe8f303",
   "metadata": {},
   "outputs": [
    {
     "ename": "",
     "evalue": "",
     "output_type": "error",
     "traceback": [
      "\u001b[1;31mnotebook controller is DISPOSED. \n",
      "\u001b[1;31mView Jupyter <a href='command:jupyter.viewOutput'>log</a> for further details."
     ]
    }
   ],
   "source": [
    "import requests\n",
    "import json\n",
    "PRIVATE_TOKEN = \"d\"\n",
    "API_BASE_URL = \"https://www.eventbriteapi.com/v3/\""
   ]
  },
  {
   "cell_type": "code",
   "execution_count": null,
   "id": "fd15cf7b",
   "metadata": {},
   "outputs": [
    {
     "name": "stdout",
     "output_type": "stream",
     "text": [
      "❌ Error fetching events: 404\n",
      "Error details: {\"status_code\":404,\"error_description\":\"The path you requested does not exist.\",\"error\":\"NOT_FOUND\"}\n"
     ]
    },
    {
     "ename": "",
     "evalue": "",
     "output_type": "error",
     "traceback": [
      "\u001b[1;31mnotebook controller is DISPOSED. \n",
      "\u001b[1;31mView Jupyter <a href='command:jupyter.viewOutput'>log</a> for further details."
     ]
    }
   ],
   "source": [
    "import requests\n",
    "import json\n",
    "\n",
    "# --- Configuration ---\n",
    "PRIVATE_TOKEN = \".\"\n",
    "API_BASE_URL = \"https://www.eventbriteapi.com/v3/\"\n",
    "\n",
    "# --- Set up headers for authentication ---\n",
    "headers = {\n",
    "    \"Authorization\": f\"Bearer {PRIVATE_TOKEN}\",\n",
    "    \"Content-Type\": \"application/json\",\n",
    "}\n",
    "\n",
    "# --- Define search parameters ---\n",
    "# You can search by keyword, location, date, etc.\n",
    "# See docs for all options: https://www.eventbrite.com/platform/api#/reference/event/search\n",
    "params = {\n",
    "    \"q\": \"tech\",\n",
    "    \"location.address\": \"Nakuru, Kenya\"\n",
    "}\n",
    "\n",
    "# --- Make the API request ---\n",
    "response = requests.get(\n",
    "    f\"{API_BASE_URL}/events/search/\",\n",
    "    headers=headers,\n",
    "    params=params\n",
    ")\n",
    "\n",
    "# --- Process the response ---\n",
    "if response.status_code == 200:\n",
    "    events_data = response.json()\n",
    "    print(\"✅ Successfully found events.\")\n",
    "    print(\"-\" * 30)\n",
    "    \n",
    "    # Check if any events were returned\n",
    "    if not events_data.get(\"events\"):\n",
    "        print(\"No events found matching your criteria.\")\n",
    "    else:\n",
    "        # Loop through the events and print details\n",
    "        for event in events_data[\"events\"]:\n",
    "            event_name = event.get(\"name\", {}).get(\"text\", \"N/A\")\n",
    "            start_time = event.get(\"start\", {}).get(\"local\", \"N/A\")\n",
    "            is_free = event.get(\"is_free\", False)\n",
    "            url = event.get(\"url\", \"N/A\")\n",
    "            \n",
    "            print(f\"Event: {event_name}\")\n",
    "            print(f\"  Starts: {start_time}\")\n",
    "            print(f\"  Is Free: {'Yes' if is_free else 'No'}\")\n",
    "            print(f\"  URL: {url}\")\n",
    "            print(\"-\" * 30)\n",
    "\n",
    "else:\n",
    "    print(f\"❌ Error fetching events: {response.status_code}\")\n",
    "    print(f\"Error details: {response.text}\")"
   ]
  }
 ],
 "metadata": {
  "kernelspec": {
   "display_name": "main",
   "language": "python",
   "name": "python3"
  },
  "language_info": {
   "codemirror_mode": {
    "name": "ipython",
    "version": 3
   },
   "file_extension": ".py",
   "mimetype": "text/x-python",
   "name": "python",
   "nbconvert_exporter": "python",
   "pygments_lexer": "ipython3",
   "version": "3.13.3"
  }
 },
 "nbformat": 4,
 "nbformat_minor": 5
}
