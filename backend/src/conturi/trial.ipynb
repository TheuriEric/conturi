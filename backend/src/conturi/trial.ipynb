{
 "cells": [
  {
   "cell_type": "code",
   "execution_count": 2,
   "id": "3c89b3ee",
   "metadata": {},
   "outputs": [],
   "source": [
    "import logging"
   ]
  },
  {
   "cell_type": "code",
   "execution_count": 3,
   "id": "3cc2751c",
   "metadata": {},
   "outputs": [],
   "source": [
    "logging.basicConfig(level=logging.INFO,\n",
    "                    format=\"%(asctime)s - %(name)s - %(levelname)s - %(message)s\"\n",
    ")\n",
    "logger = logging.getLogger(__name__)"
   ]
  },
  {
   "cell_type": "code",
   "execution_count": 4,
   "id": "3fc78561",
   "metadata": {},
   "outputs": [
    {
     "name": "stdout",
     "output_type": "stream",
     "text": [
      "llama-3.3-70b-versatile\n"
     ]
    }
   ],
   "source": [
    "from langchain_groq import ChatGroq\n",
    "import os\n",
    "from dotenv import load_dotenv\n",
    "load_dotenv()\n",
    "print(os.getenv(\"GROQ_MODEL\"))"
   ]
  },
  {
   "cell_type": "code",
   "execution_count": null,
   "id": "35d19f04",
   "metadata": {},
   "outputs": [],
   "source": []
  },
  {
   "cell_type": "code",
   "execution_count": 5,
   "id": "5d5a60b2",
   "metadata": {},
   "outputs": [
    {
     "name": "stderr",
     "output_type": "stream",
     "text": [
      "2025-10-15 13:09:06,632 - __main__ - INFO - Successfully connected to the router LLM\n"
     ]
    }
   ],
   "source": [
    "\n",
    "try:\n",
    "    router_llm = ChatGroq(\n",
    "        model=os.getenv(\"GROQ_MODEL\"),\n",
    "        api_key=os.getenv(\"GROQ_API_KEY\")\n",
    "    )\n",
    "    logger.info(\"Successfully connected to the router LLM\")\n",
    "except Exception as e:\n",
    "    logger.exception(\"Failed to connect to the router LLM\")\n"
   ]
  },
  {
   "cell_type": "code",
   "execution_count": 6,
   "id": "99f74d0d",
   "metadata": {},
   "outputs": [
    {
     "name": "stderr",
     "output_type": "stream",
     "text": [
      "2025-10-15 13:09:07,909 - httpx - INFO - HTTP Request: POST https://api.groq.com/openai/v1/chat/completions \"HTTP/1.1 200 OK\"\n"
     ]
    },
    {
     "data": {
      "text/plain": [
       "AIMessage(content='Here\\'s a financial tip:\\n\\n**Pay Yourself First**\\n\\nAs soon as you receive your paycheck, set aside a portion of it into a separate savings or investment account. This is called \"paying yourself first.\" By doing so, you\\'ll ensure that you\\'re prioritizing your own financial goals, such as building an emergency fund, paying off debt, or saving for retirement.\\n\\nTry to allocate at least 10% to 20% of your income towards savings and investments. This habit will help you develop a disciplined approach to managing your finances and make progress towards your long-term financial goals.\\n\\nRemember, it\\'s essential to prioritize your own financial well-being, just as you would any other important bill or expense. By paying yourself first, you\\'ll be taking a significant step towards achieving financial stability and security.', additional_kwargs={}, response_metadata={'token_usage': {'completion_tokens': 162, 'prompt_tokens': 40, 'total_tokens': 202, 'completion_time': 0.392423524, 'prompt_time': 0.001969259, 'queue_time': 0.102178006, 'total_time': 0.394392783}, 'model_name': 'llama-3.3-70b-versatile', 'system_fingerprint': 'fp_9e1e8f8435', 'service_tier': 'on_demand', 'finish_reason': 'stop', 'logprobs': None}, id='run--14497b00-92c6-4481-a670-03a7efc2d6a7-0', usage_metadata={'input_tokens': 40, 'output_tokens': 162, 'total_tokens': 202})"
      ]
     },
     "execution_count": 6,
     "metadata": {},
     "output_type": "execute_result"
    }
   ],
   "source": [
    "router_llm.invoke(\"Give me a financial tip\")"
   ]
  }
 ],
 "metadata": {
  "kernelspec": {
   "display_name": "main",
   "language": "python",
   "name": "python3"
  },
  "language_info": {
   "codemirror_mode": {
    "name": "ipython",
    "version": 3
   },
   "file_extension": ".py",
   "mimetype": "text/x-python",
   "name": "python",
   "nbconvert_exporter": "python",
   "pygments_lexer": "ipython3",
   "version": "3.13.3"
  }
 },
 "nbformat": 4,
 "nbformat_minor": 5
}
